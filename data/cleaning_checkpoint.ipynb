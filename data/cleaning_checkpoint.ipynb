{
 "cells": [
  {
   "cell_type": "code",
   "execution_count": 2,
   "id": "8232a0a3",
   "metadata": {},
   "outputs": [],
   "source": [
    "# Importing libraries\n",
    "import pandas as pd \n",
    "import numpy as np \n",
    "from pathlib import Path \n",
    "\n",
    "pd.options.display.max_columns = None\n",
    "pd.options.display.width = 120"
   ]
  },
  {
   "cell_type": "code",
   "execution_count": 3,
   "id": "15c0ccd4",
   "metadata": {},
   "outputs": [],
   "source": [
    "# Loading the dataset\n",
    "file_path = Path(r\"C:\\Users\\ishim\\urban_mobility\\data\\yellow_tripdata_2025-08.parquet\")"
   ]
  },
  {
   "cell_type": "code",
   "execution_count": 6,
   "id": "be87951b",
   "metadata": {},
   "outputs": [],
   "source": [
    "# Reading the dataset\n",
    "data = pd.read_parquet(file_path)"
   ]
  },
  {
   "cell_type": "code",
   "execution_count": 8,
   "id": "f48f9592",
   "metadata": {},
   "outputs": [
    {
     "name": "stdout",
     "output_type": "stream",
     "text": [
      "Original shape (3574091, 20)\n"
     ]
    }
   ],
   "source": [
    "# Printing the dimensions of my dataset\n",
    "print(\"Original shape\", data.shape)"
   ]
  },
  {
   "cell_type": "code",
   "execution_count": 9,
   "id": "57be297e",
   "metadata": {},
   "outputs": [
    {
     "name": "stdout",
     "output_type": "stream",
     "text": [
      "<class 'pandas.core.frame.DataFrame'>\n",
      "RangeIndex: 3574091 entries, 0 to 3574090\n",
      "Data columns (total 20 columns):\n",
      " #   Column                 Dtype         \n",
      "---  ------                 -----         \n",
      " 0   VendorID               int32         \n",
      " 1   tpep_pickup_datetime   datetime64[us]\n",
      " 2   tpep_dropoff_datetime  datetime64[us]\n",
      " 3   passenger_count        float64       \n",
      " 4   trip_distance          float64       \n",
      " 5   RatecodeID             float64       \n",
      " 6   store_and_fwd_flag     object        \n",
      " 7   PULocationID           int32         \n",
      " 8   DOLocationID           int32         \n",
      " 9   payment_type           int64         \n",
      " 10  fare_amount            float64       \n",
      " 11  extra                  float64       \n",
      " 12  mta_tax                float64       \n",
      " 13  tip_amount             float64       \n",
      " 14  tolls_amount           float64       \n",
      " 15  improvement_surcharge  float64       \n",
      " 16  total_amount           float64       \n",
      " 17  congestion_surcharge   float64       \n",
      " 18  Airport_fee            float64       \n",
      " 19  cbd_congestion_fee     float64       \n",
      "dtypes: datetime64[us](2), float64(13), int32(3), int64(1), object(1)\n",
      "memory usage: 504.5+ MB\n"
     ]
    }
   ],
   "source": [
    "# Data inspection\n",
    "data.info()"
   ]
  },
  {
   "cell_type": "code",
   "execution_count": 11,
   "id": "4b1694cc",
   "metadata": {},
   "outputs": [],
   "source": [
    "# Selecting columns  with numbers ?(floats and integers)\n",
    "numeric_columns = data.select_dtypes(include=['float64', 'int64']).columns"
   ]
  },
  {
   "cell_type": "code",
   "execution_count": 13,
   "id": "4ded10f3",
   "metadata": {},
   "outputs": [],
   "source": [
    "# Replacing the missing values with 0 to prevent errors when calculating\n",
    "data[numeric_columns] = data[numeric_columns].fillna(0)"
   ]
  },
  {
   "cell_type": "code",
   "execution_count": 18,
   "id": "83eaa27f",
   "metadata": {},
   "outputs": [],
   "source": [
    "# Verifying if date and times are stored in the correct datetime format\n",
    "for current_column in ['tpep_pickup_datetime', 'tpep_dropoff_datetime']:\n",
    "    data[current_column] = pd.to_datetime(data[current_column], errors='coerce')"
   ]
  },
  {
   "cell_type": "code",
   "execution_count": 19,
   "id": "5eaede1a",
   "metadata": {},
   "outputs": [],
   "source": [
    "# Calculating the trip duration\n",
    "trip_duration = data['tpep_dropoff_datetime'] - data['tpep_pickup_datetime'] "
   ]
  },
  {
   "cell_type": "code",
   "execution_count": 23,
   "id": "f4f81ae5",
   "metadata": {},
   "outputs": [],
   "source": [
    "# Converting trip duration into minutes and converting negative or null durations to 0\n",
    "data['trip_duration_min'] = (\n",
    "    (data['tpep_dropoff_datetime'] - data['tpep_pickup_datetime']).dt.total_seconds() / 60).fillna(0)"
   ]
  },
  {
   "cell_type": "code",
   "execution_count": 25,
   "id": "6344480c",
   "metadata": {},
   "outputs": [],
   "source": [
    "# Define all fare components\n",
    "fare_components = ['fare_amount', 'extra', 'mta_tax', 'tip_amount', 'tolls_amount', 'improvement_surcharge', 'congestion_surcharge', 'Airport_fee']\n",
    "\n",
    "# Check if all columns exist and replace them with 0 if not\n",
    "for column in fare_components:\n",
    "    if column not in data.columns:\n",
    "        data[column] = 0\n"
   ]
  },
  {
   "cell_type": "code",
   "execution_count": 29,
   "id": "7393b9b6",
   "metadata": {},
   "outputs": [],
   "source": [
    "# Manually calculate the total fare amount for all components\n",
    "data['calculated_total_amount'] = data[fare_components].sum(axis=1)"
   ]
  },
  {
   "cell_type": "code",
   "execution_count": null,
   "id": "e91180f9",
   "metadata": {},
   "outputs": [],
   "source": [
    "# Compare the calculated total with the generated total_amount column\n",
    "tolerance = 5 # It will allow a difference of 5 cents\n",
    "data['difference'] = abs(data['total_amount'] - data['calculated_total_amount'])"
   ]
  },
  {
   "cell_type": "code",
   "execution_count": 34,
   "id": "5b611b62",
   "metadata": {},
   "outputs": [],
   "source": [
    "# Rows where the difference is greater than the tolerance\n",
    "mismatched_totals = data['difference'] > tolerance"
   ]
  },
  {
   "cell_type": "code",
   "execution_count": null,
   "id": "1a478ecd",
   "metadata": {},
   "outputs": [],
   "source": [
    "# \n",
    "if 'payment_type' in data.columns:\n",
    "    cash_mask = data['payment_type'] == 2\n",
    "\n"
   ]
  },
  {
   "cell_type": "code",
   "execution_count": 38,
   "id": "84985df0",
   "metadata": {},
   "outputs": [
    {
     "name": "stdout",
     "output_type": "stream",
     "text": [
      "Cleaned shape: (3422739, 23)\n"
     ]
    }
   ],
   "source": [
    "clean_data = data[\n",
    "    (data['trip_distance'] > 0) &\n",
    "    (data['trip_duration_min'] > 0)\n",
    "].copy()\n",
    "print(\"Cleaned shape:\", clean_data.shape)\n"
   ]
  },
  {
   "cell_type": "code",
   "execution_count": 39,
   "id": "9ba3f7bc",
   "metadata": {},
   "outputs": [],
   "source": [
    "clean_data = clean_data[\n",
    "    (clean_data['trip_duration_min'] < 240) &  # < 4 hours\n",
    "    (clean_data['trip_distance'] < 100)        # < 100 miles\n",
    "]\n"
   ]
  },
  {
   "cell_type": "code",
   "execution_count": 41,
   "id": "8209ec8f",
   "metadata": {},
   "outputs": [
    {
     "name": "stdout",
     "output_type": "stream",
     "text": [
      "Final cleaned shape: (3421428, 24)\n"
     ]
    }
   ],
   "source": [
    "clean_data['speed_mph'] = clean_data['trip_distance'] / (clean_data['trip_duration_min'] / 60)\n",
    "print(\"Final cleaned shape:\", clean_data.shape)"
   ]
  },
  {
   "cell_type": "code",
   "execution_count": 43,
   "id": "b8d80985",
   "metadata": {},
   "outputs": [
    {
     "name": "stdout",
     "output_type": "stream",
     "text": [
      "Final cleaned shape: (2506343, 24)\n"
     ]
    }
   ],
   "source": [
    "# --- 12. Additional cleaning filters ---\n",
    "\n",
    "# Remove trips with zero or extremely high passenger counts\n",
    "clean_data = clean_data[\n",
    "    (clean_data['passenger_count'] > 0) &\n",
    "    (clean_data['passenger_count'] <= 6)  # realistic upper bound\n",
    "]\n",
    "\n",
    "# Remove invalid or unknown payment types\n",
    "valid_payment_types = [1, 2, 3, 4, 5, 6]  # standard NYC Taxi codes\n",
    "clean_data = clean_data[clean_data['payment_type'].isin(valid_payment_types)]\n",
    "\n",
    "# Drop rows with missing pickup or dropoff locations\n",
    "clean_data = clean_data.dropna(subset=['PULocationID', 'DOLocationID'])\n",
    "\n",
    "# Remove outliers in fare or tip amounts (e.g., extreme high values)\n",
    "clean_data = clean_data[\n",
    "    (clean_data['fare_amount'].between(1, 500)) &\n",
    "    (clean_data['tip_amount'].between(0, 200))\n",
    "]\n",
    "\n",
    "# Optionally remove forwarded trips if not needed\n",
    "clean_data = clean_data[clean_data['store_and_fwd_flag'] != 'Y']\n",
    "\n",
    "print(\"Final cleaned shape:\", clean_data.shape)\n"
   ]
  }
 ],
 "metadata": {
  "kernelspec": {
   "display_name": "base",
   "language": "python",
   "name": "python3"
  },
  "language_info": {
   "codemirror_mode": {
    "name": "ipython",
    "version": 3
   },
   "file_extension": ".py",
   "mimetype": "text/x-python",
   "name": "python",
   "nbconvert_exporter": "python",
   "pygments_lexer": "ipython3",
   "version": "3.13.5"
  }
 },
 "nbformat": 4,
 "nbformat_minor": 5
}
